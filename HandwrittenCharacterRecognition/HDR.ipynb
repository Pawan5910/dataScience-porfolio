{
 "cells": [
  {
   "cell_type": "markdown",
   "metadata": {},
   "source": [
    "# Recognition of Handwritten digits from an image and converting it onto an editable document."
   ]
  },
  {
   "cell_type": "code",
   "execution_count": 1,
   "metadata": {},
   "outputs": [],
   "source": [
    "#import libraries\n",
    "\n",
    "import tensorflow as tf\n",
    "import matplotlib.pyplot as plt\n",
    "import numpy as np"
   ]
  },
  {
   "cell_type": "code",
   "execution_count": 2,
   "metadata": {},
   "outputs": [],
   "source": [
    "#load the mnist dataset consisting of 60000 training and 10000 testing images of size 28*28\n",
    "mnist = tf.keras.datasets.mnist "
   ]
  },
  {
   "cell_type": "code",
   "execution_count": 3,
   "metadata": {},
   "outputs": [],
   "source": [
    "(x_train,y_train),(x_test,y_test) = mnist.load_data()"
   ]
  },
  {
   "cell_type": "code",
   "execution_count": 4,
   "metadata": {},
   "outputs": [
    {
     "data": {
      "image/png": "[encoded data removed]",
      "text/plain": [
       "<Figure size 432x288 with 1 Axes>"
      ]
     },
     "metadata": {
      "needs_background": "light"
     },
     "output_type": "display_data"
    },
    {
     "data": {
      "text/plain": [
       "<matplotlib.image.AxesImage at 0x1f73a1ce388>"
      ]
     },
     "execution_count": 4,
     "metadata": {},
     "output_type": "execute_result"
    },
    {
     "data": {
      "image/png": "[encoded data removed]",
      "text/plain": [
       "<Figure size 432x288 with 1 Axes>"
      ]
     },
     "metadata": {
      "needs_background": "light"
     },
     "output_type": "display_data"
    }
   ],
   "source": [
    "#display the first image\n",
    "plt.imshow(x_train[0])\n",
    "plt.show()\n",
    "#showing it in binary form\n",
    "plt.imshow(x_train[0],cmap=plt.cm.binary)"
   ]
  },
  {
   "cell_type": "code",
   "execution_count": 5,
   "metadata": {},
   "outputs": [],
   "source": [
    "# print(x_train[0]) # the background is black(0), the character is in white(255) , the above image displayed has been reverted"
   ]
  },
  {
   "cell_type": "markdown",
   "metadata": {},
   "source": [
    "# Data preprocessing"
   ]
  },
  {
   "cell_type": "code",
   "execution_count": 6,
   "metadata": {},
   "outputs": [
    {
     "data": {
      "text/plain": [
       "<matplotlib.image.AxesImage at 0x1f735a31988>"
      ]
     },
     "execution_count": 6,
     "metadata": {},
     "output_type": "execute_result"
    },
    {
     "data": {
      "image/png": "[encoded data removed]",
      "text/plain": [
       "<Figure size 432x288 with 1 Axes>"
      ]
     },
     "metadata": {
      "needs_background": "light"
     },
     "output_type": "display_data"
    }
   ],
   "source": [
    "#Normalising the image, min-max normalization\n",
    "\n",
    "x_train = tf.keras.utils.normalize(x_train, axis = 1)\n",
    "x_test = tf.keras.utils.normalize(x_test,axis=1)\n",
    "plt.imshow(x_train[0],cmap=plt.cm.binary)"
   ]
  },
  {
   "cell_type": "code",
   "execution_count": 7,
   "metadata": {},
   "outputs": [
    {
     "name": "stdout",
     "output_type": "stream",
     "text": [
      "Training Sample dimention (60000, 28, 28, 1)\n",
      "Testing sample dimention (10000, 28, 28, 1)\n"
     ]
    }
   ],
   "source": [
    "IMG_SIZE = 28\n",
    "x_trainr = np.array(x_train).reshape(-1,IMG_SIZE,IMG_SIZE,1) \n",
    "x_testr = np.array(x_test).reshape(-1,IMG_SIZE,IMG_SIZE,1)\n",
    "print(\"Training Sample dimention\",x_trainr.shape)\n",
    "print(\"Testing sample dimention\",x_testr.shape)\n"
   ]
  },
  {
   "cell_type": "markdown",
   "metadata": {},
   "source": [
    "# Deep Neural network architecture"
   ]
  },
  {
   "cell_type": "code",
   "execution_count": 8,
   "metadata": {},
   "outputs": [],
   "source": [
    "from tensorflow.keras.models import Sequential # network of different neural network layers connected in a sequential fashion\n",
    "from tensorflow.keras.layers import Dense, Dropout, Activation, Flatten, Conv2D, MaxPooling2D # different layers"
   ]
  },
  {
   "cell_type": "code",
   "execution_count": 9,
   "metadata": {},
   "outputs": [],
   "source": [
    "model = Sequential()\n",
    "\n",
    "#First Conv2D layer\n",
    "model.add(Conv2D(64,(3,3),input_shape= x_trainr.shape[1:])) #64 filters or kernels or neurons\n",
    "model.add(Activation(\"relu\"))\n",
    "model.add(MaxPooling2D(pool_size=(2,2)))\n",
    "\n",
    "#Second Conv2D layer\n",
    "model.add(Conv2D(64,(3,3)))\n",
    "model.add(Activation(\"relu\"))\n",
    "model.add(MaxPooling2D(pool_size=(2,2)))\n",
    "\n",
    "#Third Conv2D layer\n",
    "model.add(Conv2D(64,(3,3)))\n",
    "model.add(Activation(\"relu\"))\n",
    "model.add(MaxPooling2D(pool_size=(2,2)))\n",
    "\n",
    "#we have to flatten\n",
    "model.add(Flatten())\n",
    "model.add(Dense(64)) #first neural networks layer\n",
    "model.add(Activation(\"relu\"))\n",
    "\n",
    "model.add(Dense(32)) #hidden layer\n",
    "model.add(Activation(\"relu\"))\n",
    "\n",
    "model.add(Dense(10))\n",
    "model.add(Activation(\"softmax\")) #gives class probabilities\n",
    "\n",
    "#if the output is just one neuron, activation should be sigmoid\n",
    "\n",
    "\n"
   ]
  },
  {
   "cell_type": "code",
   "execution_count": 10,
   "metadata": {},
   "outputs": [
    {
     "name": "stdout",
     "output_type": "stream",
     "text": [
      "Model: \"sequential\"\n",
      "_________________________________________________________________\n",
      "Layer (type)                 Output Shape              Param #   \n",
      "=================================================================\n",
      "conv2d (Conv2D)              (None, 26, 26, 64)        640       \n",
      "_________________________________________________________________\n",
      "activation (Activation)      (None, 26, 26, 64)        0         \n",
      "_________________________________________________________________\n",
      "max_pooling2d (MaxPooling2D) (None, 13, 13, 64)        0         \n",
      "_________________________________________________________________\n",
      "conv2d_1 (Conv2D)            (None, 11, 11, 64)        36928     \n",
      "_________________________________________________________________\n",
      "activation_1 (Activation)    (None, 11, 11, 64)        0         \n",
      "_________________________________________________________________\n",
      "max_pooling2d_1 (MaxPooling2 (None, 5, 5, 64)          0         \n",
      "_________________________________________________________________\n",
      "conv2d_2 (Conv2D)            (None, 3, 3, 64)          36928     \n",
      "_________________________________________________________________\n",
      "activation_2 (Activation)    (None, 3, 3, 64)          0         \n",
      "_________________________________________________________________\n",
      "max_pooling2d_2 (MaxPooling2 (None, 1, 1, 64)          0         \n",
      "_________________________________________________________________\n",
      "flatten (Flatten)            (None, 64)                0         \n",
      "_________________________________________________________________\n",
      "dense (Dense)                (None, 64)                4160      \n",
      "_________________________________________________________________\n",
      "activation_3 (Activation)    (None, 64)                0         \n",
      "_________________________________________________________________\n",
      "dense_1 (Dense)              (None, 32)                2080      \n",
      "_________________________________________________________________\n",
      "activation_4 (Activation)    (None, 32)                0         \n",
      "_________________________________________________________________\n",
      "dense_2 (Dense)              (None, 10)                330       \n",
      "_________________________________________________________________\n",
      "activation_5 (Activation)    (None, 10)                0         \n",
      "=================================================================\n",
      "Total params: 81,066\n",
      "Trainable params: 81,066\n",
      "Non-trainable params: 0\n",
      "_________________________________________________________________\n"
     ]
    }
   ],
   "source": [
    " model.summary()"
   ]
  },
  {
   "cell_type": "code",
   "execution_count": 11,
   "metadata": {},
   "outputs": [],
   "source": [
    "#compile the model with loss function, an optimizer and evaluation metrics\n",
    "model.compile(loss=\"sparse_categorical_crossentropy\",optimizer=\"adam\",metrics=['accuracy'])"
   ]
  },
  {
   "cell_type": "code",
   "execution_count": 13,
   "metadata": {},
   "outputs": [
    {
     "name": "stdout",
     "output_type": "stream",
     "text": [
      "Train on 42000 samples, validate on 18000 samples\n",
      "Epoch 1/10\n",
      "42000/42000 [==============================] - 49s 1ms/sample - loss: 0.1011 - accuracy: 0.9690 - val_loss: 0.1001 - val_accuracy: 0.9694\n",
      "Epoch 2/10\n",
      "42000/42000 [==============================] - 48s 1ms/sample - loss: 0.0756 - accuracy: 0.9766 - val_loss: 0.0762 - val_accuracy: 0.9768\n",
      "Epoch 3/10\n",
      "42000/42000 [==============================] - 48s 1ms/sample - loss: 0.0588 - accuracy: 0.9813 - val_loss: 0.0690 - val_accuracy: 0.9791\n",
      "Epoch 4/10\n",
      "42000/42000 [==============================] - 49s 1ms/sample - loss: 0.0477 - accuracy: 0.9849 - val_loss: 0.0713 - val_accuracy: 0.9790\n",
      "Epoch 5/10\n",
      "42000/42000 [==============================] - 47s 1ms/sample - loss: 0.0403 - accuracy: 0.9875 - val_loss: 0.0616 - val_accuracy: 0.9811\n",
      "Epoch 6/10\n",
      "42000/42000 [==============================] - 48s 1ms/sample - loss: 0.0326 - accuracy: 0.9898 - val_loss: 0.0596 - val_accuracy: 0.9841\n",
      "Epoch 7/10\n",
      "42000/42000 [==============================] - 50s 1ms/sample - loss: 0.0282 - accuracy: 0.9909 - val_loss: 0.0626 - val_accuracy: 0.9835\n",
      "Epoch 8/10\n",
      "42000/42000 [==============================] - 48s 1ms/sample - loss: 0.0239 - accuracy: 0.9922 - val_loss: 0.0654 - val_accuracy: 0.9832\n",
      "Epoch 9/10\n",
      "42000/42000 [==============================] - 48s 1ms/sample - loss: 0.0199 - accuracy: 0.9933 - val_loss: 0.0629 - val_accuracy: 0.9840\n",
      "Epoch 10/10\n",
      "42000/42000 [==============================] - 45s 1ms/sample - loss: 0.0176 - accuracy: 0.9941 - val_loss: 0.0758 - val_accuracy: 0.9823\n"
     ]
    },
    {
     "data": {
      "text/plain": [
       "<tensorflow.python.keras.callbacks.History at 0x1f737614048>"
      ]
     },
     "execution_count": 13,
     "metadata": {},
     "output_type": "execute_result"
    }
   ],
   "source": [
    "#Run the model for 10 epochs\n",
    "model.fit(x_trainr,y_train,epochs=10,validation_split=0.3)"
   ]
  },
  {
   "cell_type": "markdown",
   "metadata": {},
   "source": [
    "# Model Evaluation"
   ]
  },
  {
   "cell_type": "code",
   "execution_count": 14,
   "metadata": {},
   "outputs": [
    {
     "name": "stdout",
     "output_type": "stream",
     "text": [
      "10000/10000 [==============================] - 3s 266us/sample - loss: 0.0763 - accuracy: 0.9819\n",
      "0.07633974309076003\n",
      "0.9819\n"
     ]
    }
   ],
   "source": [
    "test_loss, test_acc = model.evaluate(x_testr,y_test) #checking on 10,000 test samples\n",
    "print(test_loss)\n",
    "print(test_acc)"
   ]
  },
  {
   "cell_type": "code",
   "execution_count": 15,
   "metadata": {},
   "outputs": [],
   "source": [
    "predictions = model.predict([x_testr])\n",
    "#it will have class probabilities, so the class with highest probability will the actual class"
   ]
  },
  {
   "cell_type": "code",
   "execution_count": 16,
   "metadata": {},
   "outputs": [
    {
     "name": "stdout",
     "output_type": "stream",
     "text": [
      "1\n"
     ]
    }
   ],
   "source": [
    "#check for a random sample\n",
    "print(np.argmax(predictions[2]))"
   ]
  },
  {
   "cell_type": "code",
   "execution_count": 17,
   "metadata": {},
   "outputs": [
    {
     "data": {
      "text/plain": [
       "<matplotlib.image.AxesImage at 0x1f7375ceac8>"
      ]
     },
     "execution_count": 17,
     "metadata": {},
     "output_type": "execute_result"
    },
    {
     "data": {
      "image/png": "[encoded data removed]",
      "text/plain": [
       "<Figure size 432x288 with 1 Axes>"
      ]
     },
     "metadata": {
      "needs_background": "light"
     },
     "output_type": "display_data"
    }
   ],
   "source": [
    "plt.imshow(x_test[2])"
   ]
  },
  {
   "cell_type": "code",
   "execution_count": 18,
   "metadata": {},
   "outputs": [
    {
     "name": "stdout",
     "output_type": "stream",
     "text": [
      "Requirement already satisfied: opencv-python in c:\\users\\pavithre b shetty\\anaconda3\\envs\\tensorflow\\lib\\site-packages (4.5.1.48)\n",
      "Requirement already satisfied: numpy>=1.14.5 in c:\\users\\pavithre b shetty\\anaconda3\\envs\\tensorflow\\lib\\site-packages (from opencv-python) (1.19.1)\n"
     ]
    }
   ],
   "source": [
    "!pip install opencv-python"
   ]
  },
  {
   "cell_type": "markdown",
   "metadata": {},
   "source": [
    "# Reading an image with more than 1 digits"
   ]
  },
  {
   "cell_type": "code",
   "execution_count": 20,
   "metadata": {},
   "outputs": [],
   "source": [
    "import cv2\n",
    "from imutils import contours\n",
    "\n",
    "#This block of code is to extract indiviual character and save it as seperate image\n",
    "    \n",
    "image = cv2.imread('HCR_imgP/3.png')\n",
    "image = cv2.bitwise_not(image)\n",
    "gray = cv2.cvtColor(image, cv2.COLOR_BGR2GRAY)\n",
    "thresh = cv2.threshold(gray,0,255,cv2.THRESH_OTSU + cv2.THRESH_BINARY)[1]\n",
    "\n",
    "cnts = cv2.findContours(thresh, cv2.RETR_EXTERNAL, cv2.CHAIN_APPROX_SIMPLE)\n",
    "cnts = cnts[0] if len(cnts) == 2 else cnts[1]\n",
    "cnts, _ = contours.sort_contours(cnts, method=\"left-to-right\")\n",
    "\n",
    "ROI_number = 0\n",
    "for c in cnts:\n",
    "    area = cv2.contourArea(c)\n",
    "    if area > 10:\n",
    "        x,y,w,h = cv2.boundingRect(c)\n",
    "        ROI =image[y:y+h, x:x+w]\n",
    "        #add padding bits to the image\n",
    "        cv2.imwrite('HCR_Img/HCR_{}.png'.format(ROI_number), cv2.copyMakeBorder( ROI, 100, 100, 100, 100, cv2.BORDER_CONSTANT))\n",
    "        cv2.rectangle(image, (x, y), (x + w, y + h), (36,255,12), 1)\n",
    "        ROI_number += 1\n"
   ]
  },
  {
   "cell_type": "code",
   "execution_count": 21,
   "metadata": {},
   "outputs": [
    {
     "name": "stdout",
     "output_type": "stream",
     "text": [
      "HCR_Img\\HCR_0.png\n",
      "HCR_Img\\HCR_1.png\n",
      "HCR_Img\\HCR_2.png\n",
      "HCR_Img\\HCR_3.png\n",
      "HCR_Img\\HCR_4.png\n",
      "[2, 5, 4, 6, 1]\n"
     ]
    },
    {
     "data": {
      "text/plain": [
       "<matplotlib.image.AxesImage at 0x1f737a92d48>"
      ]
     },
     "execution_count": 21,
     "metadata": {},
     "output_type": "execute_result"
    },
    {
     "data": {
      "image/png": "[encoded data removed]",
      "text/plain": [
       "<Figure size 432x288 with 1 Axes>"
      ]
     },
     "metadata": {
      "needs_background": "light"
     },
     "output_type": "display_data"
    }
   ],
   "source": [
    "import glob\n",
    "\n",
    "#read indiviual image and pass it through our model to get the correct prediction \n",
    "\n",
    "X_data = []\n",
    "files = glob.glob (\"HCR_Img/*.PNG\")\n",
    "for myFile in files:\n",
    "    print(myFile)\n",
    "    img = cv2.imread(myFile)\n",
    "    gray = cv2.cvtColor(img, cv2.COLOR_BGR2GRAY)\n",
    "    resized = cv2.resize(gray,(28,28),interpolation = cv2.INTER_AREA)\n",
    "    modified_img = tf.keras.utils.normalize(resized, axis = 1)\n",
    "    modified_img = np.array(resized).reshape(-1,IMG_SIZE,IMG_SIZE,1)\n",
    "    prediction_img = model.predict(modified_img)\n",
    "    prediction = np.argmax(prediction_img)\n",
    "    X_data.append(prediction)\n",
    "\n",
    "print(X_data)\n",
    "img = cv2.imread(\"HCR_imgP/3.png\") \n",
    "plt.imshow(img)\n"
   ]
  },
  {
   "cell_type": "code",
   "execution_count": 22,
   "metadata": {},
   "outputs": [],
   "source": [
    "#Save the result to an editable document.\n",
    "\n",
    "img_file = open(\"HCR_imgP/test.txt\", \"w\")\n",
    "for element in X_data:\n",
    "    img_file.write(str(element))\n",
    "\n",
    "img_file.close()"
   ]
  },
  {
   "cell_type": "code",
   "execution_count": null,
   "metadata": {},
   "outputs": [],
   "source": []
  }
 ],
 "metadata": {
  "kernelspec": {
   "display_name": "Python 3",
   "language": "python",
   "name": "python3"
  },
  "language_info": {
   "codemirror_mode": {
    "name": "ipython",
    "version": 3
   },
   "file_extension": ".py",
   "mimetype": "text/x-python",
   "name": "python",
   "nbconvert_exporter": "python",
   "pygments_lexer": "ipython3",
   "version": "3.7.9"
  }
 },
 "nbformat": 4,
 "nbformat_minor": 4
}
