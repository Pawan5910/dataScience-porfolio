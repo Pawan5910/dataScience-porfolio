{
  "cells": [
    {
      "cell_type": "code",
      "execution_count": null,
      "metadata": {
        "id": "x09xXJzxoc8Y"
      },
      "outputs": [],
      "source": [
        "import pandas as pd"
      ]
    },
    {
      "cell_type": "code",
      "source": [
        "#Install Yfinance API\n",
        "!pip install yfinance"
      ],
      "metadata": {
        "colab": {
          "base_uri": "https://localhost:8080/"
        },
        "id": "SsbR-pubq7gF",
        "outputId": "6d79bf8e-ee9e-45b8-f7f4-2d3cb9b467cd"
      },
      "execution_count": null,
      "outputs": [
        {
          "output_type": "stream",
          "name": "stdout",
          "text": [
            "Looking in indexes: https://pypi.org/simple, https://us-python.pkg.dev/colab-wheels/public/simple/\n",
            "Collecting yfinance\n",
            "  Downloading yfinance-0.1.74-py2.py3-none-any.whl (27 kB)\n",
            "Collecting requests>=2.26\n",
            "  Downloading requests-2.28.1-py3-none-any.whl (62 kB)\n",
            "\u001b[K     |████████████████████████████████| 62 kB 1.5 MB/s \n",
            "\u001b[?25hRequirement already satisfied: multitasking>=0.0.7 in /usr/local/lib/python3.7/dist-packages (from yfinance) (0.0.11)\n",
            "Requirement already satisfied: pandas>=0.24.0 in /usr/local/lib/python3.7/dist-packages (from yfinance) (1.3.5)\n",
            "Requirement already satisfied: numpy>=1.15 in /usr/local/lib/python3.7/dist-packages (from yfinance) (1.21.6)\n",
            "Requirement already satisfied: lxml>=4.5.1 in /usr/local/lib/python3.7/dist-packages (from yfinance) (4.9.1)\n",
            "Requirement already satisfied: pytz>=2017.3 in /usr/local/lib/python3.7/dist-packages (from pandas>=0.24.0->yfinance) (2022.2.1)\n",
            "Requirement already satisfied: python-dateutil>=2.7.3 in /usr/local/lib/python3.7/dist-packages (from pandas>=0.24.0->yfinance) (2.8.2)\n",
            "Requirement already satisfied: six>=1.5 in /usr/local/lib/python3.7/dist-packages (from python-dateutil>=2.7.3->pandas>=0.24.0->yfinance) (1.15.0)\n",
            "Requirement already satisfied: urllib3<1.27,>=1.21.1 in /usr/local/lib/python3.7/dist-packages (from requests>=2.26->yfinance) (1.24.3)\n",
            "Requirement already satisfied: charset-normalizer<3,>=2 in /usr/local/lib/python3.7/dist-packages (from requests>=2.26->yfinance) (2.1.0)\n",
            "Requirement already satisfied: idna<4,>=2.5 in /usr/local/lib/python3.7/dist-packages (from requests>=2.26->yfinance) (2.10)\n",
            "Requirement already satisfied: certifi>=2017.4.17 in /usr/local/lib/python3.7/dist-packages (from requests>=2.26->yfinance) (2022.6.15)\n",
            "Installing collected packages: requests, yfinance\n",
            "  Attempting uninstall: requests\n",
            "    Found existing installation: requests 2.23.0\n",
            "    Uninstalling requests-2.23.0:\n",
            "      Successfully uninstalled requests-2.23.0\n",
            "Successfully installed requests-2.28.1 yfinance-0.1.74\n"
          ]
        }
      ]
    },
    {
      "cell_type": "code",
      "execution_count": null,
      "metadata": {
        "id": "HTe1DQJOoc8c"
      },
      "outputs": [],
      "source": [
        "import yfinance as yf"
      ]
    },
    {
      "cell_type": "code",
      "source": [
        "#Setting the ticket to collect Bitcoin data is US dollars\n",
        "btc = yf.Ticker(\"BTC-USD\")"
      ],
      "metadata": {
        "id": "XNPqxD2IrfDo"
      },
      "execution_count": null,
      "outputs": []
    },
    {
      "cell_type": "code",
      "source": [
        "btc.info"
      ],
      "metadata": {
        "colab": {
          "base_uri": "https://localhost:8080/"
        },
        "id": "ckuAHSltrm9C",
        "outputId": "8baeb983-403e-440d-c96d-056c6d91c1ba"
      },
      "execution_count": null,
      "outputs": [
        {
          "output_type": "execute_result",
          "data": {
            "text/plain": [
              "{'companyOfficers': [],\n",
              " 'name': 'Bitcoin',\n",
              " 'startDate': 1367107200,\n",
              " 'description': 'Bitcoin (BTC) is a cryptocurrency . Users are able to generate BTC through the process of mining. Bitcoin has a current supply of 19,126,325. The last known price of Bitcoin is 21,040.30774611 USD and is down -7.79 over the last 24 hours. It is currently trading on 9682 active market(s) with $39,755,231,423.85 traded over the last 24 hours. More information can be found at https://bitcoin.org/.',\n",
              " 'maxAge': 1,\n",
              " 'exchange': 'CCC',\n",
              " 'shortName': 'Bitcoin USD',\n",
              " 'exchangeTimezoneName': 'UTC',\n",
              " 'exchangeTimezoneShortName': 'UTC',\n",
              " 'isEsgPopulated': False,\n",
              " 'gmtOffSetMilliseconds': '0',\n",
              " 'quoteType': 'CRYPTOCURRENCY',\n",
              " 'symbol': 'BTC-USD',\n",
              " 'messageBoardId': 'finmb_BTC_CCC',\n",
              " 'market': 'ccc_market',\n",
              " 'previousClose': 20883.174,\n",
              " 'regularMarketOpen': 20883.174,\n",
              " 'twoHundredDayAverage': 32722.428,\n",
              " 'trailingAnnualDividendYield': None,\n",
              " 'payoutRatio': None,\n",
              " 'volume24Hr': 35211800576,\n",
              " 'regularMarketDayHigh': 21340.334,\n",
              " 'navPrice': None,\n",
              " 'averageDailyVolume10Day': 28915182730,\n",
              " 'totalAssets': None,\n",
              " 'regularMarketPreviousClose': 20883.174,\n",
              " 'fiftyDayAverage': 22163.666,\n",
              " 'trailingAnnualDividendRate': None,\n",
              " 'open': 20883.174,\n",
              " 'toCurrency': 'USD=X',\n",
              " 'averageVolume10days': 28915182730,\n",
              " 'expireDate': None,\n",
              " 'yield': None,\n",
              " 'algorithm': None,\n",
              " 'dividendRate': None,\n",
              " 'exDividendDate': None,\n",
              " 'beta': None,\n",
              " 'circulatingSupply': 19126688,\n",
              " 'regularMarketDayLow': 20883.174,\n",
              " 'priceHint': 2,\n",
              " 'currency': 'USD',\n",
              " 'regularMarketVolume': 35211800576,\n",
              " 'lastMarket': 'CoinMarketCap',\n",
              " 'maxSupply': None,\n",
              " 'openInterest': None,\n",
              " 'marketCap': 405964455936,\n",
              " 'volumeAllCurrencies': 35211800576,\n",
              " 'strikePrice': None,\n",
              " 'averageVolume': 29566111618,\n",
              " 'priceToSalesTrailing12Months': None,\n",
              " 'dayLow': 20883.174,\n",
              " 'ask': None,\n",
              " 'ytdReturn': None,\n",
              " 'askSize': None,\n",
              " 'volume': 35211800576,\n",
              " 'fiftyTwoWeekHigh': 68789.625,\n",
              " 'forwardPE': None,\n",
              " 'fromCurrency': 'BTC',\n",
              " 'fiveYearAvgDividendYield': None,\n",
              " 'fiftyTwoWeekLow': 17708.623,\n",
              " 'bid': None,\n",
              " 'tradeable': False,\n",
              " 'dividendYield': None,\n",
              " 'bidSize': None,\n",
              " 'dayHigh': 21340.334,\n",
              " 'coinMarketCapLink': 'https://coinmarketcap.com/currencies/bitcoin',\n",
              " 'regularMarketPrice': 21225.027,\n",
              " 'preMarketPrice': None,\n",
              " 'logo_url': ''}"
            ]
          },
          "metadata": {},
          "execution_count": 6
        }
      ]
    },
    {
      "cell_type": "code",
      "execution_count": null,
      "metadata": {
        "colab": {
          "base_uri": "https://localhost:8080/"
        },
        "id": "QxiXSr6-oc8g",
        "outputId": "e522de57-0c5b-472c-b34f-2e0bbb75f354"
      },
      "outputs": [
        {
          "output_type": "stream",
          "name": "stdout",
          "text": [
            "        Date          Open          High           Low         Close  \\\n",
            "0 2018-01-01  14112.200195  14112.200195  13154.700195  13657.200195   \n",
            "1 2018-01-02  13625.000000  15444.599609  13163.599609  14982.099609   \n",
            "2 2018-01-03  14978.200195  15572.799805  14844.500000  15201.000000   \n",
            "3 2018-01-04  15270.700195  15739.700195  14522.200195  15599.200195   \n",
            "4 2018-01-05  15477.200195  17705.199219  15202.799805  17429.500000   \n",
            "\n",
            "      Adj Close       Volume  \n",
            "0  13657.200195  10291200000  \n",
            "1  14982.099609  16846600192  \n",
            "2  15201.000000  16871900160  \n",
            "3  15599.200195  21783199744  \n",
            "4  17429.500000  23840899072  \n"
          ]
        }
      ],
      "source": [
        "#Collecting the bitcoin data for specified time period\n",
        "import datetime\n",
        "from datetime import date, timedelta\n",
        "today = date.today()\n",
        "d1 = today.strftime(\"%Y-%m-%d\")\n",
        "end_date = d1\n",
        "d2 = date.today() - timedelta(days=1692)\n",
        "d2 = d2.strftime(\"%Y-%m-%d\")\n",
        "start_date =d2\n",
        "\n",
        "data = yf.download('BTC-USD', start=start_date, end = end_date, progress = False)\n",
        "data[\"Date\"] = data.index\n",
        "data = data[[\"Date\", \"Open\", \"High\", \"Low\", \"Close\", \"Adj Close\", \"Volume\"]]\n",
        "data.reset_index(drop=True, inplace=True)\n",
        "print(data.head())"
      ]
    },
    {
      "cell_type": "code",
      "execution_count": null,
      "metadata": {
        "id": "lVv3Ud2Joc8j"
      },
      "outputs": [],
      "source": [
        "#Save the data in a csv file\n",
        "data.to_csv('BTC_Data.csv')"
      ]
    }
  ],
  "metadata": {
    "kernelspec": {
      "display_name": "Python 3",
      "language": "python",
      "name": "python3"
    },
    "language_info": {
      "codemirror_mode": {
        "name": "ipython",
        "version": 3
      },
      "file_extension": ".py",
      "mimetype": "text/x-python",
      "name": "python",
      "nbconvert_exporter": "python",
      "pygments_lexer": "ipython3",
      "version": "3.7.1"
    },
    "colab": {
      "provenance": []
    },
    "accelerator": "GPU",
    "gpuClass": "standard"
  },
  "nbformat": 4,
  "nbformat_minor": 0
}